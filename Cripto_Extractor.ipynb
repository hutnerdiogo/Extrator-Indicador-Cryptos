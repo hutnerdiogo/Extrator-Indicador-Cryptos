{
 "cells": [
  {
   "cell_type": "markdown",
   "metadata": {
    "id": "ts040NZ6AhFS"
   },
   "source": [
    "<h1> Instalações e Imports </h1>"
   ]
  },
  {
   "cell_type": "code",
   "execution_count": null,
   "metadata": {
    "id": "Fw8MkqwK8gSN"
   },
   "outputs": [],
   "source": [
    "#to use selenium in colab:\n",
    "!pip install selenium\n",
    "#!apt-get update # to update ubuntu to correctly run apt install\n",
    "#!apt install chromium-chromedriver\n",
    "#!cp /usr/lib/chromium-browser/chromedriver /usr/bin\n",
    "!pip install requests"
   ]
  },
  {
   "cell_type": "code",
   "execution_count": 7,
   "metadata": {
    "id": "cob-Np250Hcl"
   },
   "outputs": [],
   "source": [
    "import requests\n",
    "import json\n",
    "from selenium import webdriver\n",
    "import time\n",
    "import pandas as pd\n",
    "import requests\n",
    "from datetime import datetime, timezone\n",
    "from operator import itemgetter\n",
    "from enum import IntEnum\n",
    "from bs4 import BeautifulSoup"
   ]
  },
  {
   "cell_type": "markdown",
   "metadata": {},
   "source": [
    "<h1> Preparando o Banco de Dados </h1>"
   ]
  },
  {
   "cell_type": "code",
   "execution_count": 82,
   "metadata": {},
   "outputs": [
    {
     "name": "stdout",
     "output_type": "stream",
     "text": [
      "Connection to SQLite DB successful\n"
     ]
    }
   ],
   "source": [
    "import sqlite3\n",
    "from sqlite3 import Error\n",
    "\n",
    "def create_connection(path):\n",
    "    connection = None\n",
    "    try:\n",
    "        connection = sqlite3.connect(path)\n",
    "        print(\"Connection to SQLite DB successful\")\n",
    "    except Error as e:\n",
    "        print(f\"The error '{e}' occurred\")\n",
    "\n",
    "    return connection\n",
    "\n",
    "connection = create_connection(\"sm_app.sqlite\")\n",
    "\n",
    "def execute_query(connection, query):\n",
    "    cursor = connection.cursor()\n",
    "    try:\n",
    "        cursor.execute(query)\n",
    "        connection.commit()\n",
    "        print(\"Query executed successfully\")\n",
    "    except Error as e:\n",
    "        print(f\"The error '{e}' occurred\")\n",
    "\n",
    "def execute_read_query(connection, query):\n",
    "    cursor = connection.cursor()\n",
    "    result = None\n",
    "    try:\n",
    "        cursor.execute(query)\n",
    "        result = cursor.fetchall()\n",
    "        return result\n",
    "    except Error as e:\n",
    "        print(f\"The error '{e}' occurred\")"
   ]
  },
  {
   "cell_type": "code",
   "execution_count": null,
   "metadata": {},
   "outputs": [],
   "source": [
    "r = requests.post(\"https://scanner.tradingview.com/crypto/scan\", headers=headers).json()\n",
    "moedas = []\n",
    "for item in r['data']:\n",
    "    if \"BINANCE:\" in item['s'] and \"BUSD\" in item['s']:\n",
    "        moedas.append(item['s'].replace(\"BINANCE:\",'').replace('BUSD',''))"
   ]
  },
  {
   "cell_type": "code",
   "execution_count": 89,
   "metadata": {},
   "outputs": [
    {
     "name": "stdout",
     "output_type": "stream",
     "text": [
      "Query executed successfully\n"
     ]
    }
   ],
   "source": [
    "#for moeda in moedas:\n",
    "inserir_moeda = \"\"\"INSERT INTO criptos(chave) VALUES (\"btc\");\"\"\"\n",
    "execute_query(connection, create_cripto_table) "
   ]
  },
  {
   "cell_type": "code",
   "execution_count": 90,
   "metadata": {},
   "outputs": [
    {
     "name": "stdout",
     "output_type": "stream",
     "text": [
      "(12, 'btc', None)\n",
      "(13, 'btc', None)\n",
      "(14, 'btc', None)\n"
     ]
    }
   ],
   "source": [
    "vermoedas = \"SELECT * FROM criptos;\"\n",
    "saida = execute_read_query(connection,vermoedas)\n",
    "for f in saida:\n",
    "    print(f)"
   ]
  },
  {
   "cell_type": "markdown",
   "metadata": {
    "tags": []
   },
   "source": [
    "<h1> Extração </h1>"
   ]
  },
  {
   "cell_type": "code",
   "execution_count": 26,
   "metadata": {
    "id": "XVg8rDKq7LM4"
   },
   "outputs": [],
   "source": [
    "headers = {'content-type': 'application/json'}\n",
    "data = {\"filter\":[{\"left\":\"name\",\"operation\":\"nempty\"},{\"left\":\"exchange\",\"operation\":\"equal\",\"right\":\"BINANCE\"},{\"left\":\"Recommend.All|1W\",\"operation\":\"in_range\",\"right\":[0.5,1]},{\"left\":\"Recommend.All|1W\",\"operation\":\"nequal\",\"right\":0.5},{\"left\":\"name,description\",\"operation\":\"match\",\"right\":\"BUSD\"}],\"options\":{\"lang\":\"pt\"},\"symbols\":{\"query\":{\"types\":[]},\"tickers\":[]},\"columns\":[\"base_currency_logoid\",\"currency_logoid\",\"name\",\"close|1W\",\"change|1W\",\"change_abs|1W\",\"high|1W\",\"low|1W\",\"volume|1W\",\"Recommend.All|1W\",\"exchange\",\"description\",\"name\",\"type\",\"subtype\",\"update_mode|1W\",\"pricescale\",\"minmov\",\"fractional\",\"minmove2\"],\"sort\":{\"sortBy\":\"name\",\"sortOrder\":\"asc\"},\"range\":[0,150]}\n",
    "\n",
    "r = requests.post(\"https://scanner.tradingview.com/crypto/scan\", data=json.dumps(data), headers=headers)\n",
    "retorno = json.loads(r.text)\n",
    "linhas = retorno['totalCount'] + 1\n",
    "retorno = retorno['data']\n",
    "#Limpando os dados\n",
    "dados = []\n",
    "for element in retorno:\n",
    "  del element['s']\n",
    "  dados.append(element['d'][2])"
   ]
  },
  {
   "cell_type": "markdown",
   "metadata": {
    "id": "0K2ai8gHAkS3"
   },
   "source": [
    "#Extração por selenium\n",
    "Para parar clicke 2x no botão de cancelar ou resete o runtime\n",
    "144 linhas\n"
   ]
  },
  {
   "cell_type": "code",
   "execution_count": null,
   "metadata": {
    "id": "RHXKNkvYF9dv"
   },
   "outputs": [],
   "source": [
    "options = webdriver.ChromeOptions()\n",
    "options.add_argument('--headless')\n",
    "options.add_argument('--no-sandbox')\n",
    "options.add_argument('--disable-dev-shm-usage')\n",
    "wd = webdriver.Chrome('chromedriver',options=options)\n",
    "while True:\n",
    "  #try:\n",
    "  if True:\n",
    "    coins = ['ADABUSD','BCHBUSD','BTCBUSD','DOGEBUSD','DOTBUSD','EOSBUSD','ETCBUSD','ETHBUSD','LINKBUSD','LTCBUSD','XRPBUSD','YFIBUSD']\n",
    "    coins.extend(dados)\n",
    "    coins = sorted(set(coins))\n",
    "    variacoes = {}\n",
    "    precodi = []\n",
    "    precose = []\n",
    "    precohr = []\n",
    "    for element in coins:\n",
    "      coindi = {}\n",
    "      coinse = {}\n",
    "      coinhr = {} \n",
    "      verificadodi = False\n",
    "      verificadose = False\n",
    "      verificadomes = False\n",
    "      verificadohr = False\n",
    "      wd.get(f\"https://br.tradingview.com/symbols/{element}/technicals/\")\n",
    "      time.sleep(1)\n",
    "      #Diario\n",
    "      a = wd.find_elements_by_class_name('speedometerSignal-DPgs-R4s')\n",
    "      nome = list(element)\n",
    "      nome = nome[:-4]\n",
    "      nome = ''.join(nome)\n",
    "      coindi['Nome'] = nome\n",
    "      coindi['Osciladores'] = a[0].text.replace(' ','_')\n",
    "      coindi['Médias Moveis'] = a[2].text.replace(' ','_')\n",
    "      coindi['Geral'] = a[1].text.replace(' ','_')\n",
    "      coindi['Preço Atual'] = (wd.find_element_by_class_name('tv-symbol-price-quote__value').text).replace('.',',')\n",
    "      coindi['Variação Diaria'] = (wd.find_element_by_class_name('js-symbol-change-pt').text).replace('(','').replace(')','').replace('.',',').replace('%','')\n",
    "      coindi['Indicadores de compra'] = len(wd.find_elements_by_class_name('buyColor-2-juHm8n'))\n",
    "      coindi['Indicadores de estabilidade'] = len(wd.find_elements_by_class_name('neutralColor-2-juHm8n'))\n",
    "      coindi['Indicadores de venda'] = len(wd.find_elements_by_class_name('sellColor-2-juHm8n'))\n",
    "      #print('{} indicadores diarios {}'.format(nome,(coindi['Indicadores de compra'] + coindi['Indicadores de estabilidade'] + coindi['Indicadores de venda'])))\n",
    "      if coindi['Indicadores de compra'] + coindi['Indicadores de estabilidade'] + coindi['Indicadores de venda'] >= 17:\n",
    "        verificadodi = True\n",
    "        #print('verificou')\n",
    "      else:\n",
    "        #print('{} Descartada'.format(nome))\n",
    "        continue\n",
    "        \n",
    "      #Semanal\n",
    "      a = wd.find_elements_by_class_name('button-1cy7XKgV')\n",
    "      for element in a:\n",
    "        if element.text == '1 semana':\n",
    "          element.click()\n",
    "          break\n",
    "      time.sleep(0.8)\n",
    "      b = wd.find_elements_by_class_name('speedometerSignal-DPgs-R4s')\n",
    "      coinse['Nome'] = nome\n",
    "      coinse['Osciladores'] = b[0].text.replace(' ','_')\n",
    "      coinse['Médias Moveis'] = b[2].text.replace(' ','_')\n",
    "      coinse['Geral'] = b[1].text.replace(' ','_')\n",
    "      coinse['Preço Atual'] = wd.find_element_by_class_name('tv-symbol-price-quote__value').text\n",
    "      coinse['Variação Diaria'] = (wd.find_element_by_class_name('js-symbol-change-pt').text).replace('(','').replace(')','').replace('.',',').replace('%','')\n",
    "      coinse['Indicadores de compra'] = len(wd.find_elements_by_class_name('buyColor-2-juHm8n'))\n",
    "      coinse['Indicadores de estabilidade'] = len(wd.find_elements_by_class_name('neutralColor-2-juHm8n'))\n",
    "      coinse['Indicadores de venda'] = len(wd.find_elements_by_class_name('sellColor-2-juHm8n'))\n",
    "      #print('{} indicadores {}'.format(nome,(coinse['Indicadores de compra'] + coinse['Indicadores de estabilidade'] + coinse['Indicadores de venda'])))\n",
    "      if coinse['Indicadores de compra'] + coinse['Indicadores de estabilidade'] + coinse['Indicadores de venda'] >= 17:\n",
    "        verificadose = True\n",
    "        #print('verificou')\n",
    "      else:\n",
    "        #print('Descartada'.format(nome))\n",
    "        continue\n",
    "        \n",
    "      #hora\n",
    "      c = wd.find_elements_by_class_name('button-1cy7XKgV')\n",
    "      for element in c:\n",
    "        if element.text == '1 hora':\n",
    "          element.click()\n",
    "          break\n",
    "      time.sleep(0.8)\n",
    "      d = wd.find_elements_by_class_name('speedometerSignal-DPgs-R4s')\n",
    "      coinhr['Nome'] = nome\n",
    "      coinhr['Osciladores'] = d[0].text.replace(' ','_')\n",
    "      coinhr['Médias Moveis'] = d[2].text.replace(' ','_')\n",
    "      coinhr['Geral'] = d[1].text.replace(' ','_')\n",
    "      coinhr['Preço Atual'] = wd.find_element_by_class_name('tv-symbol-price-quote__value').text\n",
    "      coinhr['Variação Diaria'] = (wd.find_element_by_class_name('js-symbol-change-pt').text).replace('(','').replace(')','').replace('.',',').replace('%','')\n",
    "      coinhr['Indicadores de compra'] = len(wd.find_elements_by_class_name('buyColor-2-juHm8n'))\n",
    "      coinhr['Indicadores de estabilidade'] = len(wd.find_elements_by_class_name('neutralColor-2-juHm8n'))\n",
    "      coinhr['Indicadores de venda'] = len(wd.find_elements_by_class_name('sellColor-2-juHm8n'))\n",
    "      #print('{} indicadores {}'.format(nome,(coinhr['Indicadores de compra'] + coinhr['Indicadores de estabilidade'] + coinhr['Indicadores de venda'])))\n",
    "      if coinhr['Indicadores de compra'] + coinhr['Indicadores de estabilidade'] + coinhr['Indicadores de venda'] >= 17:\n",
    "        verificadohr = True\n",
    "        #print('verificou')\n",
    "      else:\n",
    "        #print('Descartada'.format(nome))\n",
    "        continue\n",
    "      if verificadose and verificadodi and verificadohr:\n",
    "        precohr.append(coinhr)\n",
    "        precodi.append(coindi)\n",
    "        precose.append(coinse)\n",
    "        #print('foi para tabela')\n",
    "    #Armazenando variações:\n",
    "    planilhas = [precohr,precodi,precose]\n",
    "    for item in planilhas:\n",
    "      for element in item:\n",
    "        element['Osciladores'] = forca[element['Osciladores']]\n",
    "        element['Médias Moveis'] = forca[element['Médias Moveis']]\n",
    "        element['Geral'] = forca[element['Geral']]\n",
    "      item.sort(key=itemgetter('Geral','Osciladores','Médias Moveis','Indicadores de venda','Indicadores de estabilidade'))\n",
    "      for element in item:\n",
    "        element['Osciladores'] = element['Osciladores'].name\n",
    "        element['Médias Moveis'] = element['Médias Moveis'].name\n",
    "        element['Geral'] = element['Geral'].name\n",
    "\n",
    "    variacoes = {'Hora':precohr,\n",
    "                 'Dia':precodi,\n",
    "                 'Semana':precose}\n",
    "    for table,value in zip(variacoes.keys(),variacoes.values()):\n",
    "      rows = len(value)\n",
    "      cols = len(value[0].keys())\n",
    "      cell_stop = rowcol_to_a1(rows, cols)\n",
    "      cell_range = f'A1:{cell_stop}'\n",
    "      worksheet = stora[table]\n",
    "      lista = []\n",
    "      lista.extend(value[0].keys())\n",
    "      for element in value:\n",
    "        lista.extend(element.values())\n",
    "      auth.authenticate_user()\n",
    "      gc = gspread.authorize(GoogleCredentials.get_application_default())\n",
    "      #Limpar a planilha anterior\n",
    "      rowscl = len(value) + 20\n",
    "      colscl = len(value[0].keys())\n",
    "      cell_stopcl = rowcol_to_a1(rowscl, colscl)\n",
    "      cell_rangecl = f'A1:{cell_stopcl}'\n",
    "      cell_listcl = worksheet.range(cell_rangecl)\n",
    "      for cellcl in cell_listcl:\n",
    "        cellcl.value = ''\n",
    "      worksheet.update_cells(cell_listcl)\n",
    "      #Voltar a planilha\n",
    "      cell_list = worksheet.range(cell_range)\n",
    "      for cell,item in zip(cell_list,lista):\n",
    "        cell.value = item\n",
    "      worksheet.update_cells(cell_list)\n",
    "      timehj = datetime.now()\n",
    "      tempo = f'{timehj.hour-3}:{timehj.minute}:{timehj.second}'\n",
    "      print(f'Planilha de {table} atualizada as {tempo}')\n",
    "\n",
    "    time.sleep(10)"
   ]
  }
 ],
 "metadata": {
  "colab": {
   "collapsed_sections": [],
   "name": "Cripto Extractor",
   "provenance": []
  },
  "kernelspec": {
   "display_name": "Python 3 (ipykernel)",
   "language": "python",
   "name": "python3"
  },
  "language_info": {
   "codemirror_mode": {
    "name": "ipython",
    "version": 3
   },
   "file_extension": ".py",
   "mimetype": "text/x-python",
   "name": "python",
   "nbconvert_exporter": "python",
   "pygments_lexer": "ipython3",
   "version": "3.9.7"
  }
 },
 "nbformat": 4,
 "nbformat_minor": 4
}
